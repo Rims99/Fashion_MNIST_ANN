{
  "nbformat": 4,
  "nbformat_minor": 0,
  "metadata": {
    "colab": {
      "provenance": [],
      "gpuType": "T4"
    },
    "kernelspec": {
      "name": "python3",
      "display_name": "Python 3"
    },
    "language_info": {
      "name": "python"
    },
    "accelerator": "GPU"
  },
  "cells": [
    {
      "cell_type": "markdown",
      "source": [
        "##**Standard (Fully Connected) Neural Network**"
      ],
      "metadata": {
        "id": "48tSDVNMTr7H"
      }
    },
    {
      "cell_type": "markdown",
      "source": [
        "##**Loading Required Packages and Data**"
      ],
      "metadata": {
        "id": "PCsQsG1V_rWE"
      }
    },
    {
      "cell_type": "code",
      "source": [
        "!pip install tensorflow"
      ],
      "metadata": {
        "colab": {
          "base_uri": "https://localhost:8080/"
        },
        "id": "ZdiS9c-MA_7K",
        "outputId": "36a3e1c7-ba99-4228-8581-19b7b6b68ff4"
      },
      "execution_count": 4,
      "outputs": [
        {
          "output_type": "stream",
          "name": "stdout",
          "text": [
            "Requirement already satisfied: tensorflow in /usr/local/lib/python3.10/dist-packages (2.15.0)\n",
            "Requirement already satisfied: absl-py>=1.0.0 in /usr/local/lib/python3.10/dist-packages (from tensorflow) (1.4.0)\n",
            "Requirement already satisfied: astunparse>=1.6.0 in /usr/local/lib/python3.10/dist-packages (from tensorflow) (1.6.3)\n",
            "Requirement already satisfied: flatbuffers>=23.5.26 in /usr/local/lib/python3.10/dist-packages (from tensorflow) (24.3.25)\n",
            "Requirement already satisfied: gast!=0.5.0,!=0.5.1,!=0.5.2,>=0.2.1 in /usr/local/lib/python3.10/dist-packages (from tensorflow) (0.5.4)\n",
            "Requirement already satisfied: google-pasta>=0.1.1 in /usr/local/lib/python3.10/dist-packages (from tensorflow) (0.2.0)\n",
            "Requirement already satisfied: h5py>=2.9.0 in /usr/local/lib/python3.10/dist-packages (from tensorflow) (3.9.0)\n",
            "Requirement already satisfied: libclang>=13.0.0 in /usr/local/lib/python3.10/dist-packages (from tensorflow) (18.1.1)\n",
            "Requirement already satisfied: ml-dtypes~=0.2.0 in /usr/local/lib/python3.10/dist-packages (from tensorflow) (0.2.0)\n",
            "Requirement already satisfied: numpy<2.0.0,>=1.23.5 in /usr/local/lib/python3.10/dist-packages (from tensorflow) (1.25.2)\n",
            "Requirement already satisfied: opt-einsum>=2.3.2 in /usr/local/lib/python3.10/dist-packages (from tensorflow) (3.3.0)\n",
            "Requirement already satisfied: packaging in /usr/local/lib/python3.10/dist-packages (from tensorflow) (24.0)\n",
            "Requirement already satisfied: protobuf!=4.21.0,!=4.21.1,!=4.21.2,!=4.21.3,!=4.21.4,!=4.21.5,<5.0.0dev,>=3.20.3 in /usr/local/lib/python3.10/dist-packages (from tensorflow) (3.20.3)\n",
            "Requirement already satisfied: setuptools in /usr/local/lib/python3.10/dist-packages (from tensorflow) (67.7.2)\n",
            "Requirement already satisfied: six>=1.12.0 in /usr/local/lib/python3.10/dist-packages (from tensorflow) (1.16.0)\n",
            "Requirement already satisfied: termcolor>=1.1.0 in /usr/local/lib/python3.10/dist-packages (from tensorflow) (2.4.0)\n",
            "Requirement already satisfied: typing-extensions>=3.6.6 in /usr/local/lib/python3.10/dist-packages (from tensorflow) (4.11.0)\n",
            "Requirement already satisfied: wrapt<1.15,>=1.11.0 in /usr/local/lib/python3.10/dist-packages (from tensorflow) (1.14.1)\n",
            "Requirement already satisfied: tensorflow-io-gcs-filesystem>=0.23.1 in /usr/local/lib/python3.10/dist-packages (from tensorflow) (0.37.0)\n",
            "Requirement already satisfied: grpcio<2.0,>=1.24.3 in /usr/local/lib/python3.10/dist-packages (from tensorflow) (1.64.0)\n",
            "Requirement already satisfied: tensorboard<2.16,>=2.15 in /usr/local/lib/python3.10/dist-packages (from tensorflow) (2.15.2)\n",
            "Requirement already satisfied: tensorflow-estimator<2.16,>=2.15.0 in /usr/local/lib/python3.10/dist-packages (from tensorflow) (2.15.0)\n",
            "Requirement already satisfied: keras<2.16,>=2.15.0 in /usr/local/lib/python3.10/dist-packages (from tensorflow) (2.15.0)\n",
            "Requirement already satisfied: wheel<1.0,>=0.23.0 in /usr/local/lib/python3.10/dist-packages (from astunparse>=1.6.0->tensorflow) (0.43.0)\n",
            "Requirement already satisfied: google-auth<3,>=1.6.3 in /usr/local/lib/python3.10/dist-packages (from tensorboard<2.16,>=2.15->tensorflow) (2.27.0)\n",
            "Requirement already satisfied: google-auth-oauthlib<2,>=0.5 in /usr/local/lib/python3.10/dist-packages (from tensorboard<2.16,>=2.15->tensorflow) (1.2.0)\n",
            "Requirement already satisfied: markdown>=2.6.8 in /usr/local/lib/python3.10/dist-packages (from tensorboard<2.16,>=2.15->tensorflow) (3.6)\n",
            "Requirement already satisfied: requests<3,>=2.21.0 in /usr/local/lib/python3.10/dist-packages (from tensorboard<2.16,>=2.15->tensorflow) (2.31.0)\n",
            "Requirement already satisfied: tensorboard-data-server<0.8.0,>=0.7.0 in /usr/local/lib/python3.10/dist-packages (from tensorboard<2.16,>=2.15->tensorflow) (0.7.2)\n",
            "Requirement already satisfied: werkzeug>=1.0.1 in /usr/local/lib/python3.10/dist-packages (from tensorboard<2.16,>=2.15->tensorflow) (3.0.3)\n",
            "Requirement already satisfied: cachetools<6.0,>=2.0.0 in /usr/local/lib/python3.10/dist-packages (from google-auth<3,>=1.6.3->tensorboard<2.16,>=2.15->tensorflow) (5.3.3)\n",
            "Requirement already satisfied: pyasn1-modules>=0.2.1 in /usr/local/lib/python3.10/dist-packages (from google-auth<3,>=1.6.3->tensorboard<2.16,>=2.15->tensorflow) (0.4.0)\n",
            "Requirement already satisfied: rsa<5,>=3.1.4 in /usr/local/lib/python3.10/dist-packages (from google-auth<3,>=1.6.3->tensorboard<2.16,>=2.15->tensorflow) (4.9)\n",
            "Requirement already satisfied: requests-oauthlib>=0.7.0 in /usr/local/lib/python3.10/dist-packages (from google-auth-oauthlib<2,>=0.5->tensorboard<2.16,>=2.15->tensorflow) (1.3.1)\n",
            "Requirement already satisfied: charset-normalizer<4,>=2 in /usr/local/lib/python3.10/dist-packages (from requests<3,>=2.21.0->tensorboard<2.16,>=2.15->tensorflow) (3.3.2)\n",
            "Requirement already satisfied: idna<4,>=2.5 in /usr/local/lib/python3.10/dist-packages (from requests<3,>=2.21.0->tensorboard<2.16,>=2.15->tensorflow) (3.7)\n",
            "Requirement already satisfied: urllib3<3,>=1.21.1 in /usr/local/lib/python3.10/dist-packages (from requests<3,>=2.21.0->tensorboard<2.16,>=2.15->tensorflow) (2.0.7)\n",
            "Requirement already satisfied: certifi>=2017.4.17 in /usr/local/lib/python3.10/dist-packages (from requests<3,>=2.21.0->tensorboard<2.16,>=2.15->tensorflow) (2024.2.2)\n",
            "Requirement already satisfied: MarkupSafe>=2.1.1 in /usr/local/lib/python3.10/dist-packages (from werkzeug>=1.0.1->tensorboard<2.16,>=2.15->tensorflow) (2.1.5)\n",
            "Requirement already satisfied: pyasn1<0.7.0,>=0.4.6 in /usr/local/lib/python3.10/dist-packages (from pyasn1-modules>=0.2.1->google-auth<3,>=1.6.3->tensorboard<2.16,>=2.15->tensorflow) (0.6.0)\n",
            "Requirement already satisfied: oauthlib>=3.0.0 in /usr/local/lib/python3.10/dist-packages (from requests-oauthlib>=0.7.0->google-auth-oauthlib<2,>=0.5->tensorboard<2.16,>=2.15->tensorflow) (3.2.2)\n"
          ]
        }
      ]
    },
    {
      "cell_type": "code",
      "execution_count": 5,
      "metadata": {
        "id": "yKYB4-R09puT"
      },
      "outputs": [],
      "source": [
        "#from tensorflow.keras.datasets import mnistimport tensorflow as tf\n",
        "from tensorflow.keras import layers, models\n",
        "import matplotlib.pyplot as plt\n",
        "from tensorflow.keras.models import Sequential\n",
        "from tensorflow.keras.layers import Dense\n",
        "from tensorflow.keras.utils import to_categorical\n",
        "import tensorflow as tf"
      ]
    },
    {
      "cell_type": "code",
      "source": [
        "# Load the Fashion MNIST dataset\n",
        "fashion_mnist= tf.keras.datasets.fashion_mnist"
      ],
      "metadata": {
        "id": "9gEzLGoLBVHx"
      },
      "execution_count": 6,
      "outputs": []
    },
    {
      "cell_type": "markdown",
      "source": [
        "##**Data Splitting**"
      ],
      "metadata": {
        "id": "nxaMjwxpUYDE"
      }
    },
    {
      "cell_type": "code",
      "source": [
        "# splitting the data into test and train set\n",
        "(X_train,Y_train),(X_test,Y_test) = fashion_mnist.load_data()"
      ],
      "metadata": {
        "colab": {
          "base_uri": "https://localhost:8080/"
        },
        "id": "rK2sgZulBfg6",
        "outputId": "fbdc1621-a610-4b0f-96b0-4a3da5ee44f0"
      },
      "execution_count": 7,
      "outputs": [
        {
          "output_type": "stream",
          "name": "stdout",
          "text": [
            "Downloading data from https://storage.googleapis.com/tensorflow/tf-keras-datasets/train-labels-idx1-ubyte.gz\n",
            "29515/29515 [==============================] - 0s 0us/step\n",
            "Downloading data from https://storage.googleapis.com/tensorflow/tf-keras-datasets/train-images-idx3-ubyte.gz\n",
            "26421880/26421880 [==============================] - 0s 0us/step\n",
            "Downloading data from https://storage.googleapis.com/tensorflow/tf-keras-datasets/t10k-labels-idx1-ubyte.gz\n",
            "5148/5148 [==============================] - 0s 0us/step\n",
            "Downloading data from https://storage.googleapis.com/tensorflow/tf-keras-datasets/t10k-images-idx3-ubyte.gz\n",
            "4422102/4422102 [==============================] - 0s 0us/step\n"
          ]
        }
      ]
    },
    {
      "cell_type": "markdown",
      "source": [
        "##**Dataset Display**"
      ],
      "metadata": {
        "id": "Jt8eScd5UkHO"
      }
    },
    {
      "cell_type": "code",
      "source": [
        "import matplotlib.pyplot as plt\n",
        "# Number of images to display\n",
        "n=10\n",
        "# Create a figure to display the images\n",
        "\n",
        "plt.figure(figsize=(20,4))\n",
        "# Loop through the first 'n' images\n",
        "\n",
        "for i in range(n):\n",
        "  # Create a subplot within the figure\n",
        "\n",
        "  ax=plt.subplot(2,n,i+1)\n",
        "      # Display the original image\n",
        "\n",
        "  plt.imshow(X_test[i].reshape(28,28))\n",
        "      # Set colormap to grayscale\n",
        "\n",
        "  plt.gray()\n",
        "    # Hide x-axis and y-axis labels and ticks\n",
        "\n",
        "  ax.get_xaxis().set_visible(False)\n",
        "  ax.get_yaxis().set_visible(False)\n",
        "# Show the figure with the images\n",
        "\n",
        "plt.show()\n",
        "# Close the figure\n",
        "\n",
        "plt.close()"
      ],
      "metadata": {
        "colab": {
          "base_uri": "https://localhost:8080/",
          "height": 151
        },
        "id": "RKzyBItzBzTM",
        "outputId": "c3e29a1a-f779-488f-85b7-df95b025a0b6"
      },
      "execution_count": 8,
      "outputs": [
        {
          "output_type": "display_data",
          "data": {
            "text/plain": [
              "<Figure size 2000x400 with 10 Axes>"
            ],
            "image/png": "[encoded data removed]"
          },
          "metadata": {}
        }
      ]
    },
    {
      "cell_type": "markdown",
      "source": [
        "# Flattening the images\n"
      ],
      "metadata": {
        "id": "uvzP4Bq6UyL2"
      }
    },
    {
      "cell_type": "code",
      "source": [
        "#print the shape of the original training data and labels\n",
        "print(\"Previous X_train shape:{} \\nPrevious Y_train shape:{}\".format(X_train.shape,Y_train.shape))"
      ],
      "metadata": {
        "colab": {
          "base_uri": "https://localhost:8080/"
        },
        "id": "zvdoekx6DG0p",
        "outputId": "64c08e11-b909-4459-ce70-5eb0e169290c"
      },
      "execution_count": 9,
      "outputs": [
        {
          "output_type": "stream",
          "name": "stdout",
          "text": [
            "Previous X_train shape:(60000, 28, 28) \n",
            "Previous Y_train shape:(60000,)\n"
          ]
        }
      ]
    },
    {
      "cell_type": "code",
      "source": [
        "# Reshape training and testing data to a flat format (flattening the images)\n",
        "X_train= X_train.reshape(60000,784)\n",
        "X_test= X_test.reshape(10000,784)"
      ],
      "metadata": {
        "id": "EY11MeD0EFQ4"
      },
      "execution_count": 10,
      "outputs": []
    },
    {
      "cell_type": "markdown",
      "source": [
        "##**Min-Max Scalling**"
      ],
      "metadata": {
        "id": "8ZuwZuaWVrKk"
      }
    },
    {
      "cell_type": "code",
      "source": [
        "# Convert the data type of the images to float32\n",
        "X_train= X_train.astype('float32')\n",
        "X_test = X_test.astype('float32')\n",
        "# Normalize the pixel values to a range between 0 and 1\n",
        "\n",
        "X_train/=255\n",
        "X_test/=255"
      ],
      "metadata": {
        "id": "2UV_aK9nEi20"
      },
      "execution_count": 11,
      "outputs": []
    },
    {
      "cell_type": "markdown",
      "source": [
        "##**Processing the Target Variable**"
      ],
      "metadata": {
        "id": "Vy23qhwEV0iE"
      }
    },
    {
      "cell_type": "code",
      "source": [
        "# Number of classes in the dataset\n",
        "classes =10\n",
        "# Convert the labels to one-hot encoded format\n",
        "\n",
        "Y_train =to_categorical(Y_train,classes)\n",
        "Y_test= to_categorical(Y_test,classes)\n",
        "# Print the shapes of the preprocessed training data and labels\n",
        "\n",
        "print(\"New X_train shape: {} \\nNew Y_train shape:{}\".format(X_train.shape,Y_train.shape))"
      ],
      "metadata": {
        "colab": {
          "base_uri": "https://localhost:8080/"
        },
        "id": "BKptg6ae5tU4",
        "outputId": "1518040d-0f0f-4c8a-e967-eb06e29f9b6e"
      },
      "execution_count": 12,
      "outputs": [
        {
          "output_type": "stream",
          "name": "stdout",
          "text": [
            "New X_train shape: (60000, 784) \n",
            "New Y_train shape:(60000, 10)\n"
          ]
        }
      ]
    },
    {
      "cell_type": "markdown",
      "source": [
        "##**Setting up Hyper-parameters**"
      ],
      "metadata": {
        "id": "-xw0R9nMWCWs"
      }
    },
    {
      "cell_type": "code",
      "source": [
        "# Define the input size for each data sample (e.g., image pixels)\n",
        "input_size= 784\n",
        "\n",
        "# Specify the number of data samples to process in each batch\n",
        "batch_size= 100\n",
        "\n",
        "# Define the number of neurons in the first hidden layer\n",
        "hidden1= 400\n",
        "\n",
        "# Define the number of neurons in the second hidden layer\n",
        "hidden2=80\n",
        "\n",
        "# Define the number of neurons in the third hidden layer\n",
        "hidden3=40\n",
        "\n",
        "# Define the total number of classes/categories in the dataset\n",
        "classes= 10\n",
        "\n",
        "# Set the number of complete passes through the dataset during training\n",
        "epochs= 40"
      ],
      "metadata": {
        "id": "l7RmO0788UfS"
      },
      "execution_count": 13,
      "outputs": []
    },
    {
      "cell_type": "markdown",
      "source": [
        "##**Building the FCN Model**"
      ],
      "metadata": {
        "id": "7c4djLpEWNNa"
      }
    },
    {
      "cell_type": "code",
      "source": [
        "# Create a Sequential model, which allows us to build a neural network layer by layer\n",
        "model= Sequential()\n",
        "\n",
        "# Add the first hidden layer with 'hidden1' neurons, using ReLU activation function\n",
        "# The 'input_dim' specifies the input size for this layer\n",
        "model.add(Dense(hidden1,input_dim=input_size,activation='relu'))\n",
        "\n",
        "# Add the second hidden layer with 'hidden2' neurons, also using ReLU activation function\n",
        "model.add(Dense(hidden2,activation='relu'))\n",
        "\n",
        "# Add the third hidden layer with 'hidden3' neurons, also using ReLU activation function\n",
        "model.add(Dense(hidden3,activation='relu'))\n",
        "\n",
        "# Add the output layer with 'classes' neurons, using softmax activation function\n",
        "# Softmax activation ensures that the output values represent probabilities of each class\n",
        "model.add(Dense(classes,activation='softmax'))\n",
        "\n",
        "# Compile the model by specifying the loss function, optimizer, and evaluation metrics\n",
        "model.compile(loss='categorical_crossentropy',\n",
        "              metrics=['accuracy'],\n",
        "              optimizer='sgd')\n",
        "\n",
        "model.summary()"
      ],
      "metadata": {
        "colab": {
          "base_uri": "https://localhost:8080/"
        },
        "id": "f8Yjzv1y853M",
        "outputId": "6204816d-6faf-4580-c8ec-613f6a64135f"
      },
      "execution_count": 14,
      "outputs": [
        {
          "output_type": "stream",
          "name": "stdout",
          "text": [
            "Model: \"sequential\"\n",
            "_________________________________________________________________\n",
            " Layer (type)                Output Shape              Param #   \n",
            "=================================================================\n",
            " dense (Dense)               (None, 400)               314000    \n",
            "                                                                 \n",
            " dense_1 (Dense)             (None, 80)                32080     \n",
            "                                                                 \n",
            " dense_2 (Dense)             (None, 40)                3240      \n",
            "                                                                 \n",
            " dense_3 (Dense)             (None, 10)                410       \n",
            "                                                                 \n",
            "=================================================================\n",
            "Total params: 349730 (1.33 MB)\n",
            "Trainable params: 349730 (1.33 MB)\n",
            "Non-trainable params: 0 (0.00 Byte)\n",
            "_________________________________________________________________\n"
          ]
        }
      ]
    },
    {
      "cell_type": "markdown",
      "source": [
        "##**Training the Model**"
      ],
      "metadata": {
        "id": "QP0VQA5sWa05"
      }
    },
    {
      "cell_type": "code",
      "source": [
        "# Import necessary libraries\n",
        "from time import time\n",
        "\n",
        "# Record the current time to measure training time\n",
        "tic = time()\n",
        "\n",
        "# Fit the model on the training data\n",
        "model.fit(X_train, Y_train, batch_size=batch_size, epochs=epochs, verbose=1)\n",
        "\n",
        "# Record the time after model training\n",
        "toc = time()\n",
        "\n",
        "# Calculate and print the time taken for model training\n",
        "print(\"Model training took {} secs\".format(toc - tic))\n"
      ],
      "metadata": {
        "colab": {
          "base_uri": "https://localhost:8080/"
        },
        "id": "IEq7-Q82-lh8",
        "outputId": "bff74fdc-3fd4-463f-b5d0-af6d5172c49e"
      },
      "execution_count": 15,
      "outputs": [
        {
          "output_type": "stream",
          "name": "stdout",
          "text": [
            "Epoch 1/40\n",
            "600/600 [==============================] - 5s 5ms/step - loss: 1.0473 - accuracy: 0.6593\n",
            "Epoch 2/40\n",
            "600/600 [==============================] - 3s 5ms/step - loss: 0.5982 - accuracy: 0.7998\n",
            "Epoch 3/40\n",
            "600/600 [==============================] - 3s 5ms/step - loss: 0.5160 - accuracy: 0.8221\n",
            "Epoch 4/40\n",
            "600/600 [==============================] - 3s 6ms/step - loss: 0.4748 - accuracy: 0.8334\n",
            "Epoch 5/40\n",
            "600/600 [==============================] - 5s 8ms/step - loss: 0.4510 - accuracy: 0.8431\n",
            "Epoch 6/40\n",
            "600/600 [==============================] - 4s 6ms/step - loss: 0.4319 - accuracy: 0.8482\n",
            "Epoch 7/40\n",
            "600/600 [==============================] - 3s 6ms/step - loss: 0.4185 - accuracy: 0.8533\n",
            "Epoch 8/40\n",
            "600/600 [==============================] - 4s 6ms/step - loss: 0.4041 - accuracy: 0.8583\n",
            "Epoch 9/40\n",
            "600/600 [==============================] - 6s 10ms/step - loss: 0.3937 - accuracy: 0.8618\n",
            "Epoch 10/40\n",
            "600/600 [==============================] - 3s 5ms/step - loss: 0.3848 - accuracy: 0.8644\n",
            "Epoch 11/40\n",
            "600/600 [==============================] - 2s 3ms/step - loss: 0.3768 - accuracy: 0.8674\n",
            "Epoch 12/40\n",
            "600/600 [==============================] - 2s 3ms/step - loss: 0.3691 - accuracy: 0.8693\n",
            "Epoch 13/40\n",
            "600/600 [==============================] - 2s 3ms/step - loss: 0.3626 - accuracy: 0.8717\n",
            "Epoch 14/40\n",
            "600/600 [==============================] - 2s 4ms/step - loss: 0.3563 - accuracy: 0.8738\n",
            "Epoch 15/40\n",
            "600/600 [==============================] - 3s 4ms/step - loss: 0.3505 - accuracy: 0.8756\n",
            "Epoch 16/40\n",
            "600/600 [==============================] - 2s 3ms/step - loss: 0.3447 - accuracy: 0.8783\n",
            "Epoch 17/40\n",
            "600/600 [==============================] - 2s 3ms/step - loss: 0.3386 - accuracy: 0.8796\n",
            "Epoch 18/40\n",
            "600/600 [==============================] - 2s 3ms/step - loss: 0.3341 - accuracy: 0.8801\n",
            "Epoch 19/40\n",
            "600/600 [==============================] - 2s 3ms/step - loss: 0.3298 - accuracy: 0.8814\n",
            "Epoch 20/40\n",
            "600/600 [==============================] - 2s 3ms/step - loss: 0.3260 - accuracy: 0.8826\n",
            "Epoch 21/40\n",
            "600/600 [==============================] - 3s 4ms/step - loss: 0.3217 - accuracy: 0.8848\n",
            "Epoch 22/40\n",
            "600/600 [==============================] - 2s 4ms/step - loss: 0.3158 - accuracy: 0.8877\n",
            "Epoch 23/40\n",
            "600/600 [==============================] - 2s 3ms/step - loss: 0.3121 - accuracy: 0.8880\n",
            "Epoch 24/40\n",
            "600/600 [==============================] - 2s 3ms/step - loss: 0.3086 - accuracy: 0.8896\n",
            "Epoch 25/40\n",
            "600/600 [==============================] - 2s 3ms/step - loss: 0.3049 - accuracy: 0.8910\n",
            "Epoch 26/40\n",
            "600/600 [==============================] - 2s 3ms/step - loss: 0.3008 - accuracy: 0.8903\n",
            "Epoch 27/40\n",
            "600/600 [==============================] - 2s 3ms/step - loss: 0.2969 - accuracy: 0.8928\n",
            "Epoch 28/40\n",
            "600/600 [==============================] - 3s 4ms/step - loss: 0.2940 - accuracy: 0.8947\n",
            "Epoch 29/40\n",
            "600/600 [==============================] - 2s 3ms/step - loss: 0.2901 - accuracy: 0.8960\n",
            "Epoch 30/40\n",
            "600/600 [==============================] - 2s 3ms/step - loss: 0.2872 - accuracy: 0.8963\n",
            "Epoch 31/40\n",
            "600/600 [==============================] - 2s 3ms/step - loss: 0.2836 - accuracy: 0.8979\n",
            "Epoch 32/40\n",
            "600/600 [==============================] - 2s 3ms/step - loss: 0.2813 - accuracy: 0.8984\n",
            "Epoch 33/40\n",
            "600/600 [==============================] - 2s 3ms/step - loss: 0.2782 - accuracy: 0.8997\n",
            "Epoch 34/40\n",
            "600/600 [==============================] - 2s 4ms/step - loss: 0.2749 - accuracy: 0.9008\n",
            "Epoch 35/40\n",
            "600/600 [==============================] - 2s 4ms/step - loss: 0.2723 - accuracy: 0.9016\n",
            "Epoch 36/40\n",
            "600/600 [==============================] - 2s 3ms/step - loss: 0.2684 - accuracy: 0.9037\n",
            "Epoch 37/40\n",
            "600/600 [==============================] - 2s 3ms/step - loss: 0.2640 - accuracy: 0.9047\n",
            "Epoch 38/40\n",
            "600/600 [==============================] - 2s 3ms/step - loss: 0.2638 - accuracy: 0.9049\n",
            "Epoch 39/40\n",
            "600/600 [==============================] - 2s 3ms/step - loss: 0.2609 - accuracy: 0.9051\n",
            "Epoch 40/40\n",
            "600/600 [==============================] - 2s 4ms/step - loss: 0.2584 - accuracy: 0.9069\n",
            "Model training took 99.87420701980591 secs\n"
          ]
        }
      ]
    },
    {
      "cell_type": "markdown",
      "source": [
        "##**Testing the Model**"
      ],
      "metadata": {
        "id": "jbtGY0CnWjns"
      }
    },
    {
      "cell_type": "code",
      "source": [
        "# Import the necessary libraries\n",
        "from sklearn.metrics import accuracy_score\n",
        "import numpy as np\n",
        "\n",
        "# Predict probabilities for the test set using the trained model\n",
        "import matplotlib.pyplot as plt\n",
        "y_pred_probs= model.predict(X_test,verbose=0)\n",
        "y_pred= np.where(y_pred_probs > 0.5,1,0)\n",
        "\n",
        "# Calculate and print the test accuracy using predicted and true labels\n",
        "test_accuracy= accuracy_score(y_pred,Y_test)\n",
        "\n",
        "print(\"\\n Test accuracy:{}\".format(test_accuracy))"
      ],
      "metadata": {
        "colab": {
          "base_uri": "https://localhost:8080/"
        },
        "id": "7fyWpDPo__sD",
        "outputId": "865495ca-4052-4ab2-c0a2-cecf105f1b78"
      },
      "execution_count": 16,
      "outputs": [
        {
          "output_type": "stream",
          "name": "stdout",
          "text": [
            "\n",
            " Test accuracy:0.8553\n"
          ]
        }
      ]
    }
  ]
}